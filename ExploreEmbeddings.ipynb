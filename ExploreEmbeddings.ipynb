{
 "cells": [
  {
   "cell_type": "code",
   "execution_count": 1,
   "metadata": {
    "collapsed": false
   },
   "outputs": [
    {
     "name": "stderr",
     "output_type": "stream",
     "text": [
      "Using gpu device 0: GeForce GTX TITAN Black (CNMeM is disabled)\n"
     ]
    }
   ],
   "source": [
    "import tools, evaluation, datasets, numpy"
   ]
  },
  {
   "cell_type": "code",
   "execution_count": 2,
   "metadata": {
    "collapsed": false
   },
   "outputs": [
    {
     "name": "stdout",
     "output_type": "stream",
     "text": [
      "snapshots/coco_new_ablation_hierarchy_raw_relu_oversample.npz\n",
      "Loading dictionary...\n",
      "Creating inverted dictionary...\n",
      "Loading model options...\n",
      "Loading model parameters...\n",
      "Compiling sentence encoder..."
     ]
    },
    {
     "name": "stderr",
     "output_type": "stream",
     "text": [
      "/u/vendrov/anaconda/lib/python2.7/site-packages/theano/scan_module/scan.py:1019: Warning: In the strict mode, all neccessary shared variables must be passed as a part of non_sequences\n",
      "  'must be passed as a part of non_sequences', Warning)\n",
      "WARNING (theano.gof.compilelock): Overriding existing lock by dead process '18143' (I am process '18352')\n",
      "WARNING:theano.gof.compilelock:Overriding existing lock by dead process '18143' (I am process '18352')\n"
     ]
    },
    {
     "name": "stdout",
     "output_type": "stream",
     "text": [
      "\n",
      "Compiling image encoder...\n",
      "Packing up...\n",
      "5000\n",
      "snapshots/coco_new_ablation_hierarchy_raw_relu_oversample.npz\n",
      "Loading dictionary...\n",
      "Creating inverted dictionary...\n",
      "Loading model options...\n",
      "Loading model parameters...\n",
      "Compiling sentence encoder...\n",
      "Compiling image encoder...\n",
      "Packing up...\n",
      "5000\n",
      "snapshots/coco_new_ablation_hierarchy_raw_relu_oversample.npz\n",
      "Loading dictionary...\n",
      "Creating inverted dictionary...\n",
      "Loading model options...\n",
      "Loading model parameters...\n",
      "Compiling sentence encoder...\n",
      "Compiling image encoder...\n",
      "Packing up...\n",
      "5000\n",
      "snapshots/coco_new_ablation_hierarchy_raw_relu_oversample.npz\n",
      "Loading dictionary...\n",
      "Creating inverted dictionary...\n",
      "Loading model options...\n",
      "Loading model parameters...\n",
      "Compiling sentence encoder...\n",
      "Compiling image encoder...\n",
      "Packing up...\n",
      "5000\n",
      "snapshots/coco_new_ablation_hierarchy_raw_relu_oversample.npz\n",
      "Loading dictionary...\n",
      "Creating inverted dictionary...\n",
      "Loading model options...\n",
      "Loading model parameters...\n",
      "Compiling sentence encoder...\n",
      "Compiling image encoder...\n",
      "Packing up...\n",
      "5000\n",
      "snapshots/coco_new_ablation_cosine_raw_relu_oversample.npz\n",
      "Loading dictionary...\n",
      "Creating inverted dictionary...\n",
      "Loading model options...\n",
      "Loading model parameters...\n",
      "Compiling sentence encoder...\n",
      "Compiling image encoder...\n",
      "Packing up...\n",
      "5000\n",
      "snapshots/coco_new_ablation_cosine_raw_relu_oversample.npz\n",
      "Loading dictionary...\n",
      "Creating inverted dictionary...\n",
      "Loading model options...\n",
      "Loading model parameters...\n",
      "Compiling sentence encoder...\n",
      "Compiling image encoder...\n",
      "Packing up...\n",
      "5000\n",
      "snapshots/coco_new_ablation_cosine_raw_relu_oversample.npz\n",
      "Loading dictionary...\n",
      "Creating inverted dictionary...\n",
      "Loading model options...\n",
      "Loading model parameters...\n",
      "Compiling sentence encoder...\n",
      "Compiling image encoder...\n",
      "Packing up...\n",
      "5000\n",
      "snapshots/coco_new_ablation_cosine_raw_relu_oversample.npz\n",
      "Loading dictionary...\n",
      "Creating inverted dictionary...\n",
      "Loading model options...\n",
      "Loading model parameters...\n",
      "Compiling sentence encoder...\n",
      "Compiling image encoder...\n",
      "Packing up...\n",
      "5000\n",
      "snapshots/coco_new_ablation_cosine_raw_relu_oversample.npz\n",
      "Loading dictionary...\n",
      "Creating inverted dictionary...\n",
      "Loading model options...\n",
      "Loading model parameters...\n",
      "Compiling sentence encoder...\n",
      "Compiling image encoder...\n",
      "Packing up...\n",
      "5000\n"
     ]
    }
   ],
   "source": [
    "results = {'cosine' : {}, 'hierarchy' : {}}\n",
    "\n",
    "for method, result_dict in results.items():\n",
    "    result_dict['caps'] = []\n",
    "    result_dict['ranks'] = []\n",
    "    result_dict['c2c_errs'] = []\n",
    "    \n",
    "    for coco_split in range(5):\n",
    "        dataset = datasets.load_dataset(name='coco', cnn='relu_oversample', captions='raw', load_train=False, coco_split=coco_split)\n",
    "        m = tools.load_model('snapshots/coco_new_ablation_' + method + '_raw_relu_oversample.npz')\n",
    "        from hierarchy_data import HierarchyData\n",
    "        dev = HierarchyData(dataset['dev'], m['worddict'], n_words = len(m['worddict']))\n",
    "        caps, ims = dev.all()\n",
    "        I = tools.encode_images(m, ims)\n",
    "        S = tools.encode_sentences(m, caps)\n",
    "        import model\n",
    "        import theano\n",
    "        from model import build_errors\n",
    "        inps, errs = build_errors(m['options'])\n",
    "        m['f_err'] = theano.function(inps, errs)\n",
    "        errs= tools.compute_errors(m, S, I)\n",
    "        _, ranks = evaluation.t2i(errs)\n",
    "        print(len(ranks))\n",
    "        result_dict['caps'].append(caps)\n",
    "        result_dict['ranks'].append(ranks)\n",
    "        result_dict['c2c_errs'].append(tools.compute_errors(m,S,S))\n",
    "    \n",
    "    result_dict['caps'] = numpy.vstack(result_dict['caps'])\n",
    "    result_dict['ranks'] = numpy.vstack(result_dict['ranks'])\n",
    "    result_dict['c2c_errs'] = numpy.vstack(result_dict['c2c_errs'])\n",
    "    \n",
    "    "
   ]
  },
  {
   "cell_type": "code",
   "execution_count": 3,
   "metadata": {
    "collapsed": false
   },
   "outputs": [
    {
     "data": {
      "text/plain": [
       "(5, 5000)"
      ]
     },
     "execution_count": 3,
     "metadata": {},
     "output_type": "execute_result"
    }
   ],
   "source": [
    "results['hierarchy']['ranks'].shape"
   ]
  },
  {
   "cell_type": "code",
   "execution_count": 4,
   "metadata": {
    "collapsed": false
   },
   "outputs": [],
   "source": [
    "for key, result_dict in results.items():\n",
    "    result_dict['caps'] = [c for cs in result_dict['caps'] for c in cs]\n",
    "    result_dict['ranks'] = result_dict['ranks'].flatten()"
   ]
  },
  {
   "cell_type": "code",
   "execution_count": 5,
   "metadata": {
    "collapsed": false
   },
   "outputs": [],
   "source": [
    "caps = results['hierarchy']['caps']"
   ]
  },
  {
   "cell_type": "code",
   "execution_count": 6,
   "metadata": {
    "collapsed": false
   },
   "outputs": [
    {
     "data": {
      "text/plain": [
       "25000"
      ]
     },
     "execution_count": 6,
     "metadata": {},
     "output_type": "execute_result"
    }
   ],
   "source": [
    "len(caps)"
   ]
  },
  {
   "cell_type": "code",
   "execution_count": 7,
   "metadata": {
    "collapsed": true
   },
   "outputs": [],
   "source": [
    "# new stuff\n",
    "diffs = []\n",
    "for i in range(5000):\n",
    "    max_diff = 0\n",
    "    for j in range(5):\n",
    "        cap_j = 5*i + j\n",
    "        for k in range(5):\n",
    "            cap_k = 5*i + k\n",
    "            max_diff = max(max_diff, abs(len(caps[cap_k].split()) - len(caps[cap_j].split())))\n",
    "    for j in range(5):\n",
    "        diffs.append(max_diff)"
   ]
  },
  {
   "cell_type": "code",
   "execution_count": 8,
   "metadata": {
    "collapsed": false
   },
   "outputs": [],
   "source": [
    "diffs = numpy.array(diffs)"
   ]
  },
  {
   "cell_type": "code",
   "execution_count": 16,
   "metadata": {
    "collapsed": false
   },
   "outputs": [
    {
     "data": {
      "text/plain": [
       "1.0"
      ]
     },
     "execution_count": 16,
     "metadata": {},
     "output_type": "execute_result"
    }
   ],
   "source": [
    "results['cosine']['ranks'].min()"
   ]
  },
  {
   "cell_type": "code",
   "execution_count": 20,
   "metadata": {
    "collapsed": true
   },
   "outputs": [],
   "source": [
    "from collections import defaultdict\n",
    "diff2indices = defaultdict(list)\n",
    "for i in range(len(diffs)):\n",
    "    diff2indices[diffs[i]].append(i)\n",
    "    \n",
    "for key, result_dict in results.items():\n",
    "    diffs2mean = {}\n",
    "    for (i, caps) in diff2indices.iteritems():\n",
    "        diffs2mean[i] = result_dict['ranks'][caps].mean()\n",
    "    result_dict['diffs2mean'] = diffs2mean"
   ]
  },
  {
   "cell_type": "code",
   "execution_count": 62,
   "metadata": {
    "collapsed": false
   },
   "outputs": [],
   "source": [
    "len2indices = defaultdict(list)\n",
    "for (i, cap) in enumerate(results['hierarchy']['caps']):\n",
    "    len2indices[len(cap.split())].append(i)\n",
    "    \n",
    "for key, result_dict in results.items():\n",
    "    len2mean = {}\n",
    "    for (i, caps) in len2indices.iteritems():\n",
    "        len2mean[i] = result_dict['ranks'][caps].mean()\n",
    "    result_dict['len2mean'] = len2mean"
   ]
  },
  {
   "cell_type": "code",
   "execution_count": 54,
   "metadata": {
    "collapsed": false
   },
   "outputs": [
    {
     "data": {
      "image/png": "[encoded data removed]",
      "text/plain": [
       "<matplotlib.figure.Figure at 0x7f2e88e108d0>"
      ]
     },
     "metadata": {},
     "output_type": "display_data"
    }
   ],
   "source": [
    "%matplotlib inline\n",
    "from matplotlib import pyplot as plt\n",
    "fig = plt.figure(figsize=(7,7))\n",
    "#plt.title('Difference in mean rank between order- and symmetric embeddings for a given difference in caption length')\n",
    "\n",
    "cos_ranks = numpy.array(results['cosine']['diffs2mean'].values())\n",
    "h_ranks = numpy.array(results['hierarchy']['diffs2mean'].values())\n",
    "\n",
    "\n",
    "plt.plot(results['cosine']['diffs2mean'].keys(), cos_ranks - h_ranks , form)\n",
    "plt.xlabel('max difference in caption length among captions of an image')\n",
    "plt.ylabel('difference in mean rank between order- and symmetric embeddings')\n",
    "plt.show()"
   ]
  },
  {
   "cell_type": "code",
   "execution_count": 58,
   "metadata": {
    "collapsed": false
   },
   "outputs": [
    {
     "data": {
      "image/png": "[encoded data removed]",
      "text/plain": [
       "<matplotlib.figure.Figure at 0x7f2e9861dad0>"
      ]
     },
     "metadata": {},
     "output_type": "display_data"
    }
   ],
   "source": [
    "fig = plt.figure(figsize=(7,7))\n",
    "#plt.title('Difference in mean rank between order- and symmetric embeddings for a given difference in caption length')\n",
    "for key, result_dict in results.items():\n",
    "    form = 'b.' if key == 'hierarchy' else 'r.'\n",
    "    plt.plot(result_dict['diffs2mean'].keys(), result_dict['diffs2mean'].values(), form)\n",
    "    plt.xlabel('max difference in caption length among captions of an image')\n",
    "    plt.ylabel('mean rank')\n",
    "plt.show()"
   ]
  },
  {
   "cell_type": "code",
   "execution_count": 63,
   "metadata": {
    "collapsed": false
   },
   "outputs": [
    {
     "data": {
      "image/png": "[encoded data removed]",
      "text/plain": [
       "<matplotlib.figure.Figure at 0x7f2e98558650>"
      ]
     },
     "metadata": {},
     "output_type": "display_data"
    }
   ],
   "source": [
    "fig = plt.figure(figsize=(7,7))\n",
    "#plt.title('Difference in mean rank between order- and symmetric embeddings for a given difference in caption length')\n",
    "\n",
    "for key, result_dict in results.items():\n",
    "    form = 'b.' if key == 'hierarchy' else 'r.'\n",
    "    plt.plot(result_dict['len2mean'].keys(), result_dict['len2mean'].values(), form)\n",
    "    plt.xlabel('caption length')\n",
    "    plt.ylabel('mean rank')\n",
    "plt.show()"
   ]
  },
  {
   "cell_type": "code",
   "execution_count": 23,
   "metadata": {
    "collapsed": false
   },
   "outputs": [],
   "source": [
    "import numpy\n",
    "def c2c_rank(errors, cap1, cap2):\n",
    "    \"\"\" computes rank of 2nd caption in the nearest neighbours list of the 1st \"\"\"\n",
    "    es = errors[cap1]\n",
    "    inds = numpy.argsort(es)\n",
    "    return numpy.where(inds == cap2%5000)[0][0] + 1"
   ]
  },
  {
   "cell_type": "code",
   "execution_count": 52,
   "metadata": {
    "collapsed": false
   },
   "outputs": [],
   "source": [
    "triplets = []\n",
    "# find (image, caption, caption) triplets s.t. one of the captions is much longer than the other\n",
    "for i in range(5000):\n",
    "    for j in range(5):\n",
    "        for k in range(5):\n",
    "            c1 = 5*i + j\n",
    "            c2 = 5*i + k\n",
    "            cap1 = caps[c1].split()\n",
    "            cap2 = caps[c2].split()\n",
    "            if len(cap1) > len(cap2) + 15:\n",
    "                triplets.append((i, c1, c2))"
   ]
  },
  {
   "cell_type": "code",
   "execution_count": 53,
   "metadata": {
    "collapsed": false
   },
   "outputs": [
    {
     "data": {
      "text/plain": [
       "107"
      ]
     },
     "execution_count": 53,
     "metadata": {},
     "output_type": "execute_result"
    }
   ],
   "source": [
    "len(triplets)"
   ]
  },
  {
   "cell_type": "code",
   "execution_count": 55,
   "metadata": {
    "collapsed": false
   },
   "outputs": [
    {
     "name": "stdout",
     "output_type": "stream",
     "text": [
      "106\t531\t530\t2.0\t1.0\t2.0\t2.0\t22\t22\n",
      "106\t531\t532\t2.0\t1.0\t2.0\t1.0\t27\t25\n",
      "106\t531\t533\t2.0\t9.0\t2.0\t10.0\t37\t69\n",
      "106\t531\t534\t2.0\t8.0\t2.0\t2.0\t38\t39\n",
      "107\t536\t535\t1.0\t7.0\t1.0\t9.0\t97\t32\n",
      "107\t536\t537\t1.0\t2.0\t1.0\t4.0\t11\t2\n",
      "205\t1028\t1025\t8.0\t4.0\t1.0\t1.0\t45\t2\n",
      "205\t1028\t1026\t8.0\t9.0\t1.0\t13.0\t22\t2\n",
      "205\t1028\t1027\t8.0\t10.0\t1.0\t2.0\t47\t3\n",
      "205\t1028\t1029\t8.0\t6.0\t1.0\t2.0\t3\t2\n",
      "239\t1196\t1195\t27.0\t1.0\t21.0\t4.0\t55\t55\n",
      "239\t1196\t1197\t27.0\t1.0\t21.0\t1.0\t75\t41\n",
      "239\t1196\t1198\t27.0\t1.0\t21.0\t1.0\t109\t217\n",
      "239\t1196\t1199\t27.0\t5.0\t21.0\t3.0\t44\t134\n",
      "326\t1631\t1630\t4.0\t5.0\t1.0\t1.0\t126\t205\n",
      "326\t1631\t1632\t4.0\t9.0\t1.0\t1.0\t2\t3\n",
      "326\t1631\t1633\t4.0\t4.0\t1.0\t12.0\t23\t47\n",
      "326\t1631\t1634\t4.0\t76.0\t1.0\t2.0\t14\t3\n",
      "520\t2602\t2600\t1.0\t15.0\t1.0\t36.0\t24\t5\n",
      "520\t2602\t2601\t1.0\t5.0\t1.0\t10.0\t20\t4\n",
      "520\t2602\t2603\t1.0\t5.0\t1.0\t9.0\t21\t4\n",
      "520\t2602\t2604\t1.0\t9.0\t1.0\t9.0\t73\t29\n",
      "523\t2618\t2619\t1.0\t6.0\t1.0\t9.0\t91\t71\n",
      "543\t2718\t2715\t1.0\t18.0\t1.0\t6.0\t47\t7\n",
      "543\t2718\t2716\t1.0\t4.0\t1.0\t2.0\t2\t2\n",
      "543\t2718\t2717\t1.0\t1.0\t1.0\t1.0\t11\t37\n",
      "543\t2718\t2719\t1.0\t18.0\t1.0\t13.0\t36\t60\n",
      "702\t3514\t3512\t9.0\t7.0\t4.0\t12.0\t55\t19\n",
      "776\t3880\t3882\t11.0\t15.0\t16.0\t16.0\t5\t5\n",
      "776\t3880\t3883\t11.0\t18.0\t16.0\t19.0\t5\t5\n",
      "822\t4110\t4111\t1.0\t1.0\t2.0\t1.0\t31\t73\n",
      "822\t4110\t4112\t1.0\t1.0\t2.0\t3.0\t33\t35\n",
      "822\t4110\t4113\t1.0\t1.0\t2.0\t1.0\t19\t24\n",
      "822\t4110\t4114\t1.0\t1.0\t2.0\t1.0\t18\t23\n",
      "851\t4257\t4256\t4.0\t20.0\t4.0\t8.0\t13\t8\n",
      "851\t4257\t4259\t4.0\t23.0\t4.0\t13.0\t29\t15\n",
      "994\t4974\t4970\t43.0\t19.0\t1.0\t5.0\t51\t4\n",
      "994\t4974\t4971\t43.0\t21.0\t1.0\t15.0\t47\t5\n",
      "994\t4974\t4972\t43.0\t6.0\t1.0\t2.0\t105\t4\n",
      "994\t4974\t4973\t43.0\t8.0\t1.0\t10.0\t30\t5\n",
      "1358\t6792\t6790\t2.0\t2.0\t1.0\t2.0\t20\t11\n",
      "1358\t6792\t6791\t2.0\t98.0\t1.0\t33.0\t602\t106\n",
      "1358\t6792\t6793\t2.0\t1.0\t1.0\t2.0\t12\t8\n",
      "1363\t6817\t6815\t7.0\t11.0\t16.0\t5.0\t61\t79\n",
      "1363\t6817\t6816\t7.0\t13.0\t16.0\t11.0\t45\t124\n",
      "1363\t6817\t6818\t7.0\t15.0\t16.0\t8.0\t63\t145\n",
      "1363\t6817\t6819\t7.0\t5.0\t16.0\t4.0\t27\t75\n",
      "1440\t7204\t7200\t2.0\t12.0\t4.0\t16.0\t24\t5\n",
      "1440\t7204\t7201\t2.0\t90.0\t4.0\t5.0\t17\t9\n",
      "1440\t7204\t7202\t2.0\t4.0\t4.0\t1.0\t3\t2\n",
      "1440\t7204\t7203\t2.0\t2.0\t4.0\t6.0\t10\t8\n",
      "1908\t9544\t9540\t8.0\t2.0\t5.0\t2.0\t55\t31\n",
      "1908\t9544\t9541\t8.0\t3.0\t5.0\t3.0\t70\t28\n",
      "1908\t9544\t9542\t8.0\t1.0\t5.0\t3.0\t113\t53\n",
      "1908\t9544\t9543\t8.0\t1.0\t5.0\t3.0\t99\t41\n",
      "2174\t10873\t10872\t2.0\t2.0\t3.0\t1.0\t4\t5\n",
      "2216\t11080\t11081\t5.0\t5.0\t1.0\t12.0\t40\t62\n",
      "2324\t11623\t11620\t2.0\t4.0\t3.0\t4.0\t45\t56\n",
      "2324\t11623\t11621\t2.0\t1.0\t3.0\t1.0\t52\t64\n",
      "2324\t11623\t11622\t2.0\t4.0\t3.0\t4.0\t62\t86\n",
      "2324\t11623\t11624\t2.0\t3.0\t3.0\t4.0\t52\t66\n",
      "2465\t12328\t12325\t1.0\t1.0\t1.0\t2.0\t12\t13\n",
      "2465\t12328\t12327\t1.0\t1.0\t1.0\t3.0\t15\t10\n",
      "2465\t12328\t12329\t1.0\t1.0\t1.0\t1.0\t18\t9\n",
      "2512\t12564\t12560\t3.0\t55.0\t7.0\t48.0\t59\t62\n",
      "2512\t12564\t12561\t3.0\t6.0\t7.0\t4.0\t28\t47\n",
      "2512\t12564\t12562\t3.0\t24.0\t7.0\t7.0\t45\t48\n",
      "2512\t12564\t12563\t3.0\t285.0\t7.0\t34.0\t61\t65\n",
      "2643\t13217\t13215\t3.0\t1.0\t1.0\t1.0\t20\t17\n",
      "2643\t13217\t13216\t3.0\t3.0\t1.0\t2.0\t9\t43\n",
      "2643\t13217\t13218\t3.0\t1.0\t1.0\t2.0\t12\t12\n",
      "2643\t13217\t13219\t3.0\t2.0\t1.0\t1.0\t38\t17\n",
      "2665\t13325\t13326\t3.0\t1.0\t16.0\t1.0\t110\t31\n",
      "2665\t13325\t13327\t3.0\t1.0\t16.0\t1.0\t93\t40\n",
      "2665\t13325\t13328\t3.0\t4.0\t16.0\t2.0\t108\t78\n",
      "2665\t13325\t13329\t3.0\t11.0\t16.0\t10.0\t143\t108\n",
      "2733\t13669\t13667\t2.0\t2.0\t6.0\t1.0\t82\t29\n",
      "2734\t13670\t13673\t1.0\t4.0\t1.0\t5.0\t4\t5\n",
      "2751\t13759\t13757\t1.0\t4.0\t6.0\t6.0\t31\t34\n",
      "2902\t14511\t14514\t1.0\t2.0\t2.0\t3.0\t12\t6\n",
      "3200\t16004\t16000\t1.0\t1.0\t14.0\t2.0\t23\t23\n",
      "3200\t16004\t16001\t1.0\t1.0\t14.0\t1.0\t21\t11\n",
      "3200\t16004\t16003\t1.0\t1.0\t14.0\t1.0\t25\t16\n",
      "3278\t16393\t16391\t1.0\t1.0\t1.0\t2.0\t6\t3\n",
      "3278\t16393\t16392\t1.0\t8.0\t1.0\t1.0\t184\t2\n",
      "3561\t17809\t17805\t1.0\t2.0\t1.0\t1.0\t3\t4\n",
      "3561\t17809\t17808\t1.0\t1.0\t1.0\t1.0\t28\t11\n",
      "3599\t17995\t17996\t1.0\t1.0\t1.0\t1.0\t44\t21\n",
      "3599\t17995\t17997\t1.0\t1.0\t1.0\t1.0\t95\t5\n",
      "3599\t17995\t17998\t1.0\t2.0\t1.0\t1.0\t44\t10\n",
      "3599\t17995\t17999\t1.0\t1.0\t1.0\t1.0\t97\t10\n",
      "3840\t19204\t19200\t3.0\t8.0\t1.0\t9.0\t31\t26\n",
      "3983\t19917\t19915\t4.0\t2.0\t1.0\t1.0\t5\t5\n",
      "3983\t19917\t19919\t4.0\t4.0\t1.0\t1.0\t7\t4\n",
      "4075\t20377\t20376\t1.0\t15.0\t1.0\t13.0\t16\t7\n",
      "4636\t23183\t23180\t4.0\t2.0\t5.0\t9.0\t18\t2\n",
      "4636\t23183\t23181\t4.0\t3.0\t5.0\t2.0\t19\t30\n",
      "4636\t23183\t23182\t4.0\t6.0\t5.0\t15.0\t10\t11\n",
      "4636\t23183\t23184\t4.0\t5.0\t5.0\t5.0\t38\t3\n",
      "4963\t24816\t24815\t12.0\t41.0\t1.0\t10.0\t5\t8\n",
      "5.445\n",
      "8.745\n",
      "46.58\n",
      "32.97\n"
     ]
    }
   ],
   "source": [
    "ranks_hierarchy = []\n",
    "ranks_cos = []\n",
    "cranks_cos = []\n",
    "cranks_h = []\n",
    "for (i, cap1, cap2) in triplets[:100]:\n",
    "    rank_cos_1 = results['cosine']['ranks'][cap1]\n",
    "    rank_cos_2 = results['cosine']['ranks'][cap2]\n",
    "    rank_h_1 = results['hierarchy']['ranks'][cap1]\n",
    "    rank_h_2 = results['hierarchy']['ranks'][cap2]\n",
    "    c2c_cos = c2c_rank(-results['cosine']['c2c_errs'], cap2, cap1)\n",
    "    c2c_h = c2c_rank(results['hierarchy']['c2c_errs'], cap2, cap1)\n",
    "    print('\\t'.join(map(str, [i, cap1, cap2, rank_cos_1, rank_cos_2, rank_h_1, rank_h_2, c2c_cos, c2c_h])))\n",
    "    ranks_cos.append(rank_cos_1)\n",
    "    ranks_cos.append(rank_cos_2)\n",
    "    ranks_hierarchy.append(rank_h_1)\n",
    "    ranks_hierarchy.append(rank_h_2)\n",
    "    cranks_cos.append(c2c_cos)\n",
    "    cranks_h.append(c2c_h)\n",
    "    \n",
    "print(numpy.array(ranks_hierarchy).mean())\n",
    "print(numpy.array(ranks_cos).mean())\n",
    "print(numpy.array(cranks_cos).mean())\n",
    "print(numpy.array(cranks_h).mean())"
   ]
  },
  {
   "cell_type": "code",
   "execution_count": 71,
   "metadata": {
    "collapsed": true
   },
   "outputs": [],
   "source": [
    "ranks = numpy.array([rank(errs, i) for i in range(5000)])"
   ]
  },
  {
   "cell_type": "code",
   "execution_count": 72,
   "metadata": {
    "collapsed": true
   },
   "outputs": [],
   "source": [
    "ranks_cos = numpy.array([rank(errs_cos, i) for i in range(5000)])"
   ]
  },
  {
   "cell_type": "code",
   "execution_count": 73,
   "metadata": {
    "collapsed": false
   },
   "outputs": [
    {
     "data": {
      "text/plain": [
       "6.3681999999999999"
      ]
     },
     "execution_count": 73,
     "metadata": {},
     "output_type": "execute_result"
    }
   ],
   "source": [
    "ranks.mean()"
   ]
  },
  {
   "cell_type": "code",
   "execution_count": 74,
   "metadata": {
    "collapsed": false
   },
   "outputs": [
    {
     "data": {
      "text/plain": [
       "7.6230000000000002"
      ]
     },
     "execution_count": 74,
     "metadata": {},
     "output_type": "execute_result"
    }
   ],
   "source": [
    "ranks_cos.mean()"
   ]
  },
  {
   "cell_type": "code",
   "execution_count": 75,
   "metadata": {
    "collapsed": false
   },
   "outputs": [],
   "source": [
    "lens = numpy.array([len(cap.split()) for cap in caps])"
   ]
  },
  {
   "cell_type": "code",
   "execution_count": 66,
   "metadata": {
    "collapsed": false
   },
   "outputs": [
    {
     "data": {
      "text/plain": [
       "'a pigeon flying near white beams of a building'"
      ]
     },
     "execution_count": 66,
     "metadata": {},
     "output_type": "execute_result"
    }
   ],
   "source": [
    "caps[7201]"
   ]
  },
  {
   "cell_type": "code",
   "execution_count": 81,
   "metadata": {
    "collapsed": false
   },
   "outputs": [],
   "source": [
    "diffs = []\n",
    "for i in range(1000):\n",
    "    for j in range(5):\n",
    "        cap_j = 5*i + j\n",
    "        max_diff = 0\n",
    "        for k in range(5):\n",
    "            cap_k = 5*i + k\n",
    "            max_diff = max(max_diff, abs(len(caps[cap_k].split()) - len(caps[cap_j].split())))\n",
    "        diffs.append(max_diff)"
   ]
  },
  {
   "cell_type": "code",
   "execution_count": 92,
   "metadata": {
    "collapsed": false
   },
   "outputs": [
    {
     "data": {
      "text/plain": [
       "(-0.039184237677676474, 0.005586461686479389)"
      ]
     },
     "execution_count": 92,
     "metadata": {},
     "output_type": "execute_result"
    }
   ],
   "source": [
    "scipy.stats.spearmanr(ranks_cos, lens)"
   ]
  },
  {
   "cell_type": "code",
   "execution_count": 25,
   "metadata": {
    "collapsed": false
   },
   "outputs": [],
   "source": [
    "pairs = map(fromIndex, indices)"
   ]
  },
  {
   "cell_type": "code",
   "execution_count": 45,
   "metadata": {
    "collapsed": false
   },
   "outputs": [],
   "source": [
    "non_identity = [(i,j) for (i,j) in pairs if abs(i - j) > 4] # eliminate images that mighta come from the same caption"
   ]
  },
  {
   "cell_type": "code",
   "execution_count": 46,
   "metadata": {
    "collapsed": false
   },
   "outputs": [
    {
     "data": {
      "text/plain": [
       "[(716, 1300),\n",
       " (903, 1441),\n",
       " (2932, 2215),\n",
       " (4259, 426),\n",
       " (1300, 716),\n",
       " (1441, 903),\n",
       " (426, 4259),\n",
       " (4594, 3959),\n",
       " (3959, 4594),\n",
       " (2215, 2932)]"
      ]
     },
     "execution_count": 46,
     "metadata": {},
     "output_type": "execute_result"
    }
   ],
   "source": [
    "non_identity[:10]"
   ]
  },
  {
   "cell_type": "code",
   "execution_count": 50,
   "metadata": {
    "collapsed": false
   },
   "outputs": [],
   "source": [
    "def no_shared_words(p):\n",
    "    (i,j) = p\n",
    "    w_i = caps[i].split()\n",
    "    w_j = caps[j].split()\n",
    "    \n",
    "    return len(set(w_i) & set(w_j)) < (len(w_i) + len(w_j))/8"
   ]
  },
  {
   "cell_type": "code",
   "execution_count": 51,
   "metadata": {
    "collapsed": false
   },
   "outputs": [
    {
     "name": "stdout",
     "output_type": "stream",
     "text": [
      "0.126997 | an adult elephant and baby elephant walk together | old elephant be stand next to young elephant \n",
      "0.132185 | old elephant be stand next to young elephant | an adult elephant and baby elephant walk together \n",
      "0.139387 | three zebra look towards camera in their habitat | group of zebra stand next to each other \n",
      "0.140166 | person be on snowboard fly over mountain | snowboarder jump steep and snowy slope \n",
      "0.140740 | two elephant touch trunk with each other in grass | pair of elephant travel on grassy field \n",
      "0.145103 | pair of elephant line up next each other in an enclosure | two elephant at zoo with their trunk touch \n",
      "0.150840 | group of zebra walk away from tree | four zebra on dirt path look in different direction \n",
      "0.152551 | three motor cycle be sit in street outside coffee house a people walk by | row of motorcycle park at curb in outdoor area \n",
      "0.154018 | three zebra walk through grassland area together | bunch of zebra stand around in an open field \n",
      "0.155283 | line up of motorcycle sit on their kickstand | there be many motorcycle that be park by each other \n",
      "0.158026 | group of airplane in sky at an air show | several plan fly through sky close together \n",
      "0.162112 | cow with tag on it ear lie down next to baby cow | close up of cow near other cow \n",
      "0.163155 | person on snow board high up in air | snowboarder jump steep and snowy slope \n",
      "0.163435 | three zebra stand on grassy hill with other animal | herd of zebra walk across grass cover field \n",
      "0.165432 | three zebra walk through grassland area together | four zebra be stand next to each other in field \n",
      "0.166796 | several plan fly through sky close together | group of airplane in sky at an air show \n",
      "0.167682 | batter hit ball and begin to run to base | baseball player swing bat at baseball \n",
      "0.168861 | three motor cycle be sit in street outside coffee house a people walk by | group of motorcycle park on side of street near picnic table \n",
      "0.170031 | young man be skateboard in middle of street with car pass in both direction | person rid skate board on city street \n",
      "0.172403 | person parasailing near beach with black and white sail | man parasailing in ocean all by himself \n",
      "0.172575 | herd of zebra walk across dry grass cover field | four zebra stand together in grassy plain \n",
      "0.176665 | person in white ski jacket come down snow fill mountain | man wear ski equipment on snowy slope \n",
      "0.176842 | group of skier attempt to go up large snowy mountain | people be ski down snow cover mountain \n",
      "0.177315 | group of people play game with some remote controller | teenager be gather around wii video game \n",
      "0.178195 | woman roll her luggage through an airport | small person handle suitcase in terminal \n",
      "0.178231 | man perform leap on his snowboard | snowboarder in mid air with another person watch in background \n",
      "0.179552 | boy in baseball uniform step up to bat | little league player at home plate hold bat \n",
      "0.179613 | view from below of person on snowboard in air against sky | snowboarder jump steep and snowy slope \n",
      "0.179825 | there be many motorcycle that be park by each other | line up of motorcycle sit on their kickstand \n",
      "0.181116 | person on snowboard who be perform jump | snowboarder in mid air with another person watch in background \n",
      "0.181578 | young girl brush her teeth with tooth brush | little boy hold toothbrush in bath \n",
      "0.183775 | small boy be play softball game on grass | little league baseball game player get ready to hit ball \n",
      "0.184469 | person on snow board in air | snowboarder jump steep and snowy slope \n",
      "0.184959 | four zebra be stand next to each other in field | three zebra walk through grassland area together \n",
      "0.185437 | boy be get ready to hit ball with his bat | little league player at home plate hold bat \n",
      "0.186032 | four people ski on their ski at ski slope | group of skier glide along snow \n",
      "0.186385 | three motor cycle be sit in street outside coffee house a people walk by | line of motorcycle park on small street \n",
      "0.186763 | man be hold baby with toothbrush in it mouth | young child smile while brush his teeth \n",
      "0.188327 | people be ski down snow cover mountain | group of skier attempt to go up large snowy mountain \n",
      "0.189057 | snowboarder jump steep and snowy slope | person be on snowboard fly over mountain \n",
      "0.189428 | cake with some figure make out of frost on it | cake be prepare and ready to be eat \n",
      "0.190217 | many motorcycle be line up next to each other with several people stand among them in front of lot of tree | group of motorcycle park on side of road \n",
      "0.190428 | pair of elephant travel on grassy field | two elephant touch trunk with each other in grass \n",
      "0.191096 | two young girl play video game next to each other | three child stand before tv play wii \n",
      "0.191276 | motorcycle with blue vortex at bottom because it by grave yard | motorcycle outside park somewhere in park like set \n",
      "0.191518 | there be man skateboard down street and another man watch him | person rid skate board on city street \n",
      "0.193851 | small gray elephant stand on beach next to lake | baby elephant and an adult elephant in sandy area \n",
      "0.194566 | kid do jump off of little hill on snow ski | snowboarder jump steep and snowy slope \n",
      "0.194569 | several plan fly through sky close together | four airplane fly in formation smoke trail be come out of 3 of plane \n",
      "0.194633 | dish make of carrot pea and broccoli | silver bowl contain many carrot with long green stem \n",
      "0.195021 | baby be brush his teeth with his tooth brush | little boy hold toothbrush in bath \n",
      "0.196859 | skateboarder rid his board down sidewalk | young person be skateboard on side of street \n",
      "0.197388 | elephant drink from stream with several other elephant walk in background | bunch of elephant be stand by body of water \n",
      "0.197472 | giraffe be walk up grassy and rocky hill | giraffe stand in pasture with large rock in front of him \n",
      "0.197521 | row of motorcycle in front of forest | there be many motorcycle that be park by each other \n",
      "0.197673 | guy on snow board up in air | snowboarder jump steep and snowy slope \n",
      "0.197884 | man that be stand in sand with surfboard | surfer stand on beach watch wave come to shore \n",
      "0.198206 | large whale kite some build and people | giant kite get ready to fly with crowd around it \n",
      "0.199191 | guy on surfboard with kite attach to it | man parasailing in ocean all by himself \n",
      "0.199208 | small herd of zebra walk on lush green landscape | four zebra stand together in grassy plain \n",
      "0.199439 | bunch of elephant be stand by body of water | elephant drink from stream with several other elephant walk in background \n",
      "0.200461 | three motor cycle be sit in street outside coffee house a people walk by | few motorcycle park next to each other on park lot \n",
      "0.201082 | young child smile while brush his teeth | little boy hold toothbrush in bath \n",
      "0.201091 | man in mid air while rid motor bike | person perform stunt jump on motorcycle \n",
      "0.201351 | snowboarder jump off of hill instead of just slide down it | person on snowboard who be perform jump \n",
      "0.201588 | snowboarder jump off of hill instead of just slide down it | person on snow board high up in air \n",
      "0.201731 | snowboarder jump off of hill instead of just slide down it | snowboarder in mid air with another person watch in background \n",
      "0.202510 | snowboarder in mid air with another person watch in background | snowboarder jump steep and snowy slope \n",
      "0.202606 | man perform leap on his snowboard | snowboarder be in middle of jump through air \n",
      "0.202662 | pasta dish with bread crumb and cook green vegetable | plate of noodle and broccoli be show \n",
      "0.202681 | young man skateboard over flight of step | skateboarder be skate down rail next to some stair \n",
      "0.202778 | three child stand before tv play wii | two young girl play video game next to each other \n",
      "0.202922 | young person be skateboard on side of street | skateboarder rid his board down sidewalk \n",
      "0.203492 | batter hit ball and begin to run to base | baseball player swing his bat at baseball game \n",
      "0.203890 | two men play with nintendo wii in live room | young man play video game while another man watch \n",
      "0.203898 | large black cow lay next to small brown cow | close up of cow near other cow \n",
      "0.204177 | little boy hold toothbrush in bath | young girl brush her teeth with tooth brush \n",
      "0.204213 | several bird walk across shore a sun set | bird stand on dry spot where it be surround by water \n",
      "0.204259 | small herd of zebra walk on lush green landscape | four zebra be stand next to each other in field \n",
      "0.205033 | surfer be rid wave into shore | man surf alone on ocean water \n",
      "0.205668 | baby be brush his teeth with his tooth brush | young boy hold toothbrush in his mouth \n",
      "0.205717 | group of skier wear black and red on mountain | many people with ski go up mountain \n",
      "0.205898 | person be on snowboard fly over mountain | snowboarder in mid air with another person watch in background \n",
      "0.205939 | motorcycle sit park in palm tree line driveway | there be motor bike that be park on street \n",
      "0.206364 | snowboarder be mid air on clear day | snowboarder jump off of hill instead of just slide down it \n",
      "0.207746 | small child with red pant hold up white controller to tv | kid be play nintendo wii \n",
      "0.207819 | man leap off side of cliff while ski | snowboarder jump steep and snowy slope \n",
      "0.207923 | three motor cycle be sit in street outside coffee house a people walk by | group of motorcycle park on side of road \n",
      "0.209036 | lone giraffe walk on rocky grassy hill | giraffe stand in pasture with large rock in front of him \n",
      "0.209047 | some people and male in white jacket and his cellphone | three men stand in group all look at cell phone \n",
      "0.209377 | an airplane park next to terminal ready for passenger to board | plane be sit on runway at airport \n",
      "0.210061 | snowboarder jump steep and snowy slope | snowboarder in mid air with another person watch in background \n",
      "0.210544 | herd of zebra in long line in tall brown grass | three zebra walk through grassland area together \n",
      "0.210635 | flock of bird walk along beach near water | little bird stand on shore a wave come in \n",
      "0.210693 | three motor cycle be sit in street outside coffee house a people walk by | row of motorcycle park next to each other \n",
      "0.210928 | large passenger jet plane fly directly overhead | an airplane fly high in air with blue sky \n",
      "0.211325 | person on snowboard jump in air | snowboarder jump off of hill instead of just slide down it \n",
      "0.211573 | baseball player hold bat while stand on field | batter at baseball game get ready for pitch \n",
      "0.211895 | person hold up tasty look treat | someone hold doughnut that ha bite take out of it \n",
      "0.212017 | kite surfer move with strong wind | person sail over ocean on glider \n",
      "0.212043 | little boy hold toothbrush in bath | young child smile while brush his teeth \n",
      "0.212666 | bird look out across body of water | little bird stand on shore a wave come in \n",
      "0.213079 | snowboarder jump off of hill instead of just slide down it | person on snowboard jump in air \n",
      "0.213137 | four zebra stand together in grassy plain | herd of zebra walk across dry grass cover field \n",
      "0.213186 | snowboarder in mid air with another person watch in background | man rid snowboard on top of snow cover slope \n",
      "0.213380 | two elephant at zoo with their trunk touch | pair of elephant line up next each other in an enclosure \n",
      "0.213563 | group of zebra stand next to each other | three zebra look towards camera in their habitat \n",
      "0.214138 | person rid parachute surf board | guy on surfboard with kite attach to it \n",
      "0.214262 | cattle lie in grass to chew their cud | black cow and brown calf lay together on some grass \n",
      "0.214444 | three motor cycle be sit in street outside coffee house a people walk by | line up of motorcycle sit on their kickstand \n",
      "0.214547 | three motor cycle be sit in street outside coffee house a people walk by | many motorcycle be line up next to each other with several people stand among them in front of lot of tree \n",
      "0.214635 | snowboard be almost a big a snowboarder | man rid snowboard on top of snow cover slope \n",
      "0.214724 | man parasailing in ocean all by himself | person parasailing near beach with black and white sail \n",
      "0.214947 | girl with green shirt brush her teeth with blue toothbrush | little boy hold toothbrush in bath \n",
      "0.215021 | base ball game with pitcher on home base and umpire | some player in action in baseball game \n",
      "0.215084 | motorcycle outside park somewhere in park like set | there be motor bike that be park on street \n",
      "0.215125 | little league baseball game player get ready to hit ball | couple of young boy play baseball \n",
      "0.215541 | view from below of person on snowboard in air against sky | snowboarder jump off of hill instead of just slide down it \n",
      "0.215581 | an asian child brush their teeth with blue toothbrush | young boy hold toothbrush in his mouth \n",
      "0.215682 | man be hold baby with toothbrush in it mouth | young girl brush her teeth with tooth brush \n",
      "0.215741 | snowboarder jump steep and snowy slope | person on snow board high up in air \n",
      "0.215849 | three zebra walk through grassland area together | herd of zebra in long line in tall brown grass \n",
      "0.215958 | there be adult zebra and young zebra walk together | group of zebra stand next to each other \n",
      "0.216212 | little league player at home plate hold bat | boy be get ready to hit ball with his bat \n",
      "0.216403 | number of bike park near one another | there be many motorcycle that be park by each other \n",
      "0.217222 | kite be fly high above choppy wave a surfer cut through wave | person kiteboarding over wave in ocean \n",
      "0.217581 | group of zebra walk away from tree | four zebra be stand next to each other in field \n",
      "0.217989 | snowboarder in mid air with another person watch in background | person on snowboard who be perform jump \n",
      "0.218217 | batter hit ball and begin to run to base | baseball hitter swing his bat during baseball game \n",
      "0.218293 | bunch of zebra stand around in an open field | three zebra walk through grassland area together \n",
      "0.218957 | person on snow board high up in air | snowboarder jump off of hill instead of just slide down it \n",
      "0.219107 | batter be run for first base after hit | baseball player with bat in his hand during game \n",
      "0.219424 | three motor cycle be sit in street outside coffee house a people walk by | there be many motorcycle that be park by each other \n",
      "0.219554 | snowboarder jump off of hill instead of just slide down it | snowboarder be mid air on clear day \n",
      "0.219894 | person skateboard on side of road | skateboarder rid his board down sidewalk \n",
      "0.219924 | man leap over group of people reach for white frisbee | womqn jump in air to catch frisbee \n",
      "0.220704 | baby be brush his teeth with his tooth brush | girl with toothbrush and toothpaste in her mouth \n",
      "0.221783 | two young girl sit hold remote control in front of television | three child stand before tv play wii \n",
      "0.221992 | wooden skateboard ramp with person at top of ramp with skateboard at his foot and other people around ramp | teenager prepare to ride down side of skate ramp \n",
      "0.222057 | person in white ski jacket come down snow fill mountain | man on ski stand on snowy hill \n",
      "0.222583 | batter be run for first base after hit | batter stand at plate ready to swing a ball approach and catcher and umpire look on \n",
      "0.222693 | man on ski pose for picture on snow cover mountain range | skier stand at top of snowy mountain \n",
      "0.222739 | one elephant stand away from rest of herd drink water | several elephant take bath in river \n",
      "0.222740 | batter hit ball and begin to run to base | baseball player be swing bat at game \n",
      "0.222839 | skier in an orange jacket travel down slope | man on ski stand on snowy hill \n",
      "0.222862 | lady move along an airport with some luggage | small person handle suitcase in terminal \n",
      "0.222995 | time lapse photo of skier ski down hill | four people ski on their ski at ski slope \n",
      "0.223139 | person on snowboard who be perform jump | snowboarder jump off of hill instead of just slide down it \n",
      "0.223203 | an airplane fly high in air with blue sky | large passenger jet plane fly directly overhead \n",
      "0.223233 | pasta with some different vegetable mix in | bowl full of noodle meat and veggie \n",
      "0.223377 | teenager be gather around wii video game | group of people play game with some remote controller \n",
      "0.223732 | there be many skier on top of this mountain | people walk and ski along part of hill \n",
      "0.223906 | girl with toothbrush and toothpaste in her mouth | baby be brush his teeth with his tooth brush \n",
      "0.223955 | young girl enjoy slice of fresh bake pizza | beautiful woman hold cheese pizza in her hand \n",
      "0.223983 | there be many motorcycle that be park by each other | number of bike park near one another \n",
      "0.224011 | large piece of meat that be set on top of some rice and broccoli | bake chicken sit on plate steam next to cut broccoli \n",
      "0.224079 | little league baseball player be swing bat to hit ball | couple of young boy play baseball \n",
      "0.224150 | motorcycle with blue vortex at bottom because it by grave yard | this motorcycle be park on side of grass \n",
      "0.224483 | guy on surfboard with kite attach to it | person parasailing in middle of ocean \n",
      "0.224578 | some elephant be touch each other in zoo | herd of elephant include adult and young one \n",
      "0.224592 | person guide baby hand at video game | kid be play nintendo wii \n",
      "0.224664 | teddy bear lie on bed with bird theme cover | group of stuff animal sit next to each other in bed \n",
      "0.224960 | four giraffe in grassy plain with tree in background | herd of giraffe stand next to each other on field \n",
      "0.225013 | several bird walk across shore a sun set | bird be stand on shallow body of water \n",
      "0.225217 | airplane be fly over ocean at dusk | large commercial plane fly overhead in cloud fill sky \n",
      "0.225873 | young boy hold toothbrush in his mouth | an asian child brush their teeth with blue toothbrush \n",
      "0.225876 | there be many elephant that be walk on street | herd of elephant include adult and young one \n",
      "0.225897 | person rid skate board on city street | there be man skateboard down street and another man watch him \n",
      "0.226096 | person jump high up into air on snowboard | snowboarder jump off of hill instead of just slide down it \n",
      "0.226158 | traffic light hang over street next to cross walk | two traffic signal on pole arm at an intersection \n",
      "0.226363 | people walk and ski along part of hill | there be many skier on top of this mountain \n",
      "0.226409 | skateboarder be skate down rail next to some stair | young man skateboard over flight of step \n",
      "0.226484 | batter hit ball during little league baseball game | boy swing bat at a baseball head towards him \n",
      "0.226688 | very tasty look dish of pasta with some broccoli | bowl full of noodle meat and veggie \n",
      "0.226785 | girl be stand by storefront while talk on her phone | young woman walk down sidewalk with cell phone \n",
      "0.226795 | many sheep be inside wire fence near large hill | group of sheep stand on mountain side \n",
      "0.226801 | lone kite surfer rid wave on stormy sea | person parasailing in middle of ocean \n",
      "0.227040 | little league player at home plate hold bat | boy in baseball uniform step up to bat \n",
      "0.227106 | young man rid skateboard up ramp at park | teenager prepare to ride down side of skate ramp \n",
      "0.227289 | lone kite surfer rid wave on stormy sea | person windsurf with grey sky in background \n",
      "0.227529 | many people with ski go up mountain | group of skier glide along snow \n",
      "0.227600 | there be motor bike that be park on street | motorcycle outside park somewhere in park like set \n",
      "0.227698 | one zebra rest it head on back of another | three zebra stand side by side look at camera \n",
      "0.228273 | batter be swing to hit baseball a catcher ready to catch it | baseball player with bat in his hand during game \n",
      "0.228859 | people in horse draw buggy on city street | three horse pull cart with man rid it \n",
      "0.229055 | player walk away from home plate carry bat during game | batter stand at plate ready to swing a ball approach and catcher and umpire look on \n",
      "0.229061 | small person handle suitcase in terminal | woman roll her luggage through an airport \n",
      "0.229391 | kite surfer move with strong wind | person parasailing in middle of ocean \n",
      "0.229426 | lady move along an airport with some luggage | woman stand behind her luggage next to build \n",
      "0.229471 | snowboarder jump off of hill instead of just slide down it | person jump high up into air on snowboard \n",
      "0.229551 | two people who be take apart video game controller | two men play with nintendo wii in live room \n",
      "0.229592 | batter hit ball during little league baseball game | batter stand at plate ready to swing a ball approach and catcher and umpire look on \n",
      "0.229623 | little boy hold green blue and yellow toothbrush in his mouth | young child smile while brush his teeth \n",
      "0.229826 | man surf and play in foamy ocean | surfer rid his surfboard through wave \n",
      "0.229993 | couch sit in front of tv near window | empty live room that ha couch and television \n",
      "0.230155 | hydrant of canada valve hydrant co ltd along residential road | fire hydrant be sit on sidewalk \n",
      "0.230474 | horse draw carriage drive down brick road past several historic build | three horse pull cart with man rid it \n",
      "0.230758 | girl with green shirt brush her teeth with blue toothbrush | young boy hold toothbrush in his mouth \n",
      "0.231067 | man hold up partially eat hotdog | somebody take bite out of hot dog \n",
      "0.231134 | there be few skier climb up this tall mountain | two people stand on ski slope look down hill \n"
     ]
    }
   ],
   "source": [
    "for (i,j) in filter(no_shared_words, non_identity)[:200]:\n",
    "    print('%f | %s | %s ' % (captionErrs[j,i], caps[i], caps[j]))"
   ]
  },
  {
   "cell_type": "code",
   "execution_count": 29,
   "metadata": {
    "collapsed": false
   },
   "outputs": [],
   "source": [
    "norms = numpy.linalg.norm(S, axis=1)"
   ]
  },
  {
   "cell_type": "code",
   "execution_count": 25,
   "metadata": {
    "collapsed": false
   },
   "outputs": [],
   "source": [
    "lengths = numpy.array(map(lambda c: len(c.split()), caps))"
   ]
  },
  {
   "cell_type": "code",
   "execution_count": 27,
   "metadata": {
    "collapsed": false
   },
   "outputs": [
    {
     "data": {
      "text/plain": [
       "5"
      ]
     },
     "execution_count": 27,
     "metadata": {},
     "output_type": "execute_result"
    }
   ],
   "source": [
    "lengths.min()"
   ]
  },
  {
   "cell_type": "code",
   "execution_count": 30,
   "metadata": {
    "collapsed": false
   },
   "outputs": [
    {
     "data": {
      "text/plain": [
       "(-0.012179380524793164, 0.38922214785205911)"
      ]
     },
     "execution_count": 30,
     "metadata": {},
     "output_type": "execute_result"
    }
   ],
   "source": [
    "import scipy\n",
    "scipy.stats.pearsonr(norms,lengths)"
   ]
  }
 ],
 "metadata": {
  "kernelspec": {
   "display_name": "Python 2",
   "language": "python",
   "name": "python2"
  },
  "language_info": {
   "codemirror_mode": {
    "name": "ipython",
    "version": 2
   },
   "file_extension": ".py",
   "mimetype": "text/x-python",
   "name": "python",
   "nbconvert_exporter": "python",
   "pygments_lexer": "ipython2",
   "version": "2.7.10"
  }
 },
 "nbformat": 4,
 "nbformat_minor": 0
}
